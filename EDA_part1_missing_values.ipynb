{
  "nbformat": 4,
  "nbformat_minor": 0,
  "metadata": {
    "colab": {
      "provenance": []
    },
    "kernelspec": {
      "name": "python3",
      "display_name": "Python 3"
    },
    "language_info": {
      "name": "python"
    }
  },
  "cells": [
    {
      "cell_type": "code",
      "execution_count": 18,
      "metadata": {
        "id": "eywOtojjrTe6"
      },
      "outputs": [],
      "source": [
        "\n",
        "'''\n",
        "In these files I have performed light cleaning of the dataset before uploading it to S3 AWS.\n",
        "I correct data types if necessary, and remove obvious duplicates. I tried to make it generic\n",
        "just incase I need to use the template as a guide to a future cleaning.\n",
        "'''\n",
        "#import libraries\n",
        "import pandas as pd\n",
        "import matplotlib.pyplot as plt\n",
        "import numpy as np\n",
        "\n",
        "#upload file on side and call it in this code\n",
        "df = pd.read_csv('/kamyr-digester.csv')"
      ]
    },
    {
      "cell_type": "code",
      "source": [
        "'''\n",
        "Handling Missing Values Methods\n",
        "1. Deleting the columns with missing data\n",
        "2. Deleting the rows with missing data\n",
        "3. Filling the missing values: Imputation\n",
        "4. Foward and Backward filling: Imputation\n",
        "5: time-series forecasting algorithm: not implemented here as the amount of effort and time spent in its implementation we may as well ignore that and focus on model building part. Tedious for time and memory consumption as you use an algorithm for every missing value.\n",
        "'''\n",
        "df.info()\n",
        "#UCZAA 277/300(most full values) = .92 1-.092 = about 8% null values for this col."
      ],
      "metadata": {
        "colab": {
          "base_uri": "https://localhost:8080/"
        },
        "id": "qeM2qhPOujHR",
        "outputId": "8469e716-0d75-41c4-e367-8960fdb46260"
      },
      "execution_count": 22,
      "outputs": [
        {
          "output_type": "stream",
          "name": "stdout",
          "text": [
            "<class 'pandas.core.frame.DataFrame'>\n",
            "RangeIndex: 301 entries, 0 to 300\n",
            "Data columns (total 23 columns):\n",
            " #   Column           Non-Null Count  Dtype  \n",
            "---  ------           --------------  -----  \n",
            " 0   Observation      301 non-null    object \n",
            " 1   Y-Kappa          301 non-null    float64\n",
            " 2   ChipRate         297 non-null    float64\n",
            " 3   BF-CMratio       287 non-null    float64\n",
            " 4   BlowFlow         288 non-null    float64\n",
            " 5   ChipLevel4       300 non-null    float64\n",
            " 6   T-upperExt-2     300 non-null    float64\n",
            " 7   T-lowerExt-2     300 non-null    float64\n",
            " 8   UCZAA            277 non-null    float64\n",
            " 9   WhiteFlow-4      300 non-null    float64\n",
            " 10  AAWhiteSt-4      160 non-null    float64\n",
            " 11  AA-Wood-4        300 non-null    float64\n",
            " 12  ChipMoisture-4   300 non-null    float64\n",
            " 13  SteamFlow-4      300 non-null    float64\n",
            " 14  Lower-HeatT-3    300 non-null    float64\n",
            " 15  Upper-HeatT-3    300 non-null    float64\n",
            " 16  ChipMass-4       300 non-null    float64\n",
            " 17  WeakLiquorF      300 non-null    float64\n",
            " 18  BlackFlow-2      300 non-null    float64\n",
            " 19  WeakWashF        300 non-null    float64\n",
            " 20  SteamHeatF-3     300 non-null    float64\n",
            " 21  T-Top-Chips-4    300 non-null    float64\n",
            " 22  SulphidityL-4    160 non-null    float64\n",
            "dtypes: float64(22), object(1)\n",
            "memory usage: 54.2+ KB\n"
          ]
        }
      ]
    },
    {
      "cell_type": "code",
      "source": [
        "df.isnull().sum()"
      ],
      "metadata": {
        "colab": {
          "base_uri": "https://localhost:8080/"
        },
        "id": "c2gAo5gmv88h",
        "outputId": "f56e7c3f-4469-4e11-bcd9-a35e5f8deaea"
      },
      "execution_count": 23,
      "outputs": [
        {
          "output_type": "execute_result",
          "data": {
            "text/plain": [
              "Observation          0\n",
              "Y-Kappa              0\n",
              "ChipRate             4\n",
              "BF-CMratio          14\n",
              "BlowFlow            13\n",
              "ChipLevel4           1\n",
              "T-upperExt-2         1\n",
              "T-lowerExt-2         1\n",
              "UCZAA               24\n",
              "WhiteFlow-4          1\n",
              "AAWhiteSt-4        141\n",
              "AA-Wood-4            1\n",
              "ChipMoisture-4       1\n",
              "SteamFlow-4          1\n",
              "Lower-HeatT-3        1\n",
              "Upper-HeatT-3        1\n",
              "ChipMass-4           1\n",
              "WeakLiquorF          1\n",
              "BlackFlow-2          1\n",
              "WeakWashF            1\n",
              "SteamHeatF-3         1\n",
              "T-Top-Chips-4        1\n",
              "SulphidityL-4      141\n",
              "dtype: int64"
            ]
          },
          "metadata": {},
          "execution_count": 23
        }
      ]
    },
    {
      "cell_type": "code",
      "source": [
        "'''\n",
        "Technique 1. Deleting the columns with missing data\n",
        "This method may lose valuable info on that feature.\n",
        "\n",
        "Deciding whether to drop or keep columns in your dataset due to missing values depends on several factors. The decision-making process usually involves evaluating the following aspects:\n",
        "\n",
        "1. Percentage of Missing Values\n",
        "High percentage: If a column has a high percentage of missing values, it might not provide enough information for your analysis or model. Dropping the column could be a good option in this case.\n",
        "Low percentage: If only a small percentage of values are missing, it might be beneficial to keep the column and impute the missing values or remove only the missing rows.\n",
        "\n",
        "2. Importance of the Column\n",
        "Important for Analysis/Modeling: If the column is crucial for your analysis or predictive modeling, you might want to keep it and find ways to deal with the missing values, such as imputation.\n",
        "Not Important: If the column is not essential or can be easily replaced by other information in the dataset, dropping it might be simpler.\n",
        "\n",
        "3. Type of Data and Imputation Methods\n",
        "Categorical Data: For categorical data, imputation methods like mode replacement or predictive modeling can be used to fill in missing values.\n",
        "Numerical Data: For numerical data, mean, median, or more sophisticated imputation methods like k-NN or MICE (Multiple Imputation by Chained Equations) can be applied.\n",
        "Time Series Data: If the data is a time series, methods like forward fill, backward fill, or interpolation might be more appropriate.\n",
        "\n",
        "4. Impact on Model Performance\n",
        "Test with and without the Column: Sometimes, it's beneficial to test your model's performance with and without the column in question. This can help determine whether keeping the column (and dealing with missing values) improves the model.\n",
        "\n",
        "5. Domain Knowledge\n",
        "Expert Insights: Sometimes, domain knowledge can help in deciding whether a column with missing values is likely to be important for your analysis or predictive modeling.\n",
        "\n",
        "Decision Strategy\n",
        "Drop Columns: When the missing data significantly hinders the dataset's usefulness, or when the column is not crucial for analysis, and the proportion of missing data is high.\n",
        "Keep and Impute Columns: When the column is essential, contains recoverable information, and suitable imputation methods can be applied without introducing significant bias.\n",
        "It's essential to carefully weigh these factors before making a decision, as the impact on your analysis or model's performance can be significant. Sometimes, experimenting with different approaches and evaluating their effect on your outcomes is the best way to determine the right course of action.\n",
        "'''\n",
        "#the code below deletes the columns with missing data\n",
        "updated_df = df.dropna(axis = 1)\n",
        "updated_df.info()\n",
        "\n",
        "#In this case most columns are gone and a lot of insights are lost. Hence, this would not be the technique to use for this case. This method should only be used if there are too many null values."
      ],
      "metadata": {
        "colab": {
          "base_uri": "https://localhost:8080/"
        },
        "id": "2IriDibBwe1b",
        "outputId": "f1224dcd-b85c-476b-d0fe-05b07c3ed6ac"
      },
      "execution_count": 24,
      "outputs": [
        {
          "output_type": "stream",
          "name": "stdout",
          "text": [
            "<class 'pandas.core.frame.DataFrame'>\n",
            "RangeIndex: 301 entries, 0 to 300\n",
            "Data columns (total 2 columns):\n",
            " #   Column       Non-Null Count  Dtype  \n",
            "---  ------       --------------  -----  \n",
            " 0   Observation  301 non-null    object \n",
            " 1   Y-Kappa      301 non-null    float64\n",
            "dtypes: float64(1), object(1)\n",
            "memory usage: 4.8+ KB\n"
          ]
        }
      ]
    },
    {
      "cell_type": "code",
      "source": [
        "'''\n",
        "Technique 2. Deleting the rows with missing data'''\n",
        "#the code below deletes the rows with missing data\n",
        "updated_df1 = df.dropna(axis = 0)\n",
        "updated_df1.info()\n",
        "'''\n",
        "There is the possibility of getting more accuracy than before. This maybe because columns contained more valueable information than we expected.\n",
        "'''\n",
        "#df = df.drop(columns=['gender'])"
      ],
      "metadata": {
        "colab": {
          "base_uri": "https://localhost:8080/"
        },
        "id": "s8Ir0OqoyP9z",
        "outputId": "0553ed3f-c764-4974-e661-c034764fe80a"
      },
      "execution_count": 25,
      "outputs": [
        {
          "output_type": "stream",
          "name": "stdout",
          "text": [
            "<class 'pandas.core.frame.DataFrame'>\n",
            "Int64Index: 131 entries, 1 to 297\n",
            "Data columns (total 23 columns):\n",
            " #   Column           Non-Null Count  Dtype  \n",
            "---  ------           --------------  -----  \n",
            " 0   Observation      131 non-null    object \n",
            " 1   Y-Kappa          131 non-null    float64\n",
            " 2   ChipRate         131 non-null    float64\n",
            " 3   BF-CMratio       131 non-null    float64\n",
            " 4   BlowFlow         131 non-null    float64\n",
            " 5   ChipLevel4       131 non-null    float64\n",
            " 6   T-upperExt-2     131 non-null    float64\n",
            " 7   T-lowerExt-2     131 non-null    float64\n",
            " 8   UCZAA            131 non-null    float64\n",
            " 9   WhiteFlow-4      131 non-null    float64\n",
            " 10  AAWhiteSt-4      131 non-null    float64\n",
            " 11  AA-Wood-4        131 non-null    float64\n",
            " 12  ChipMoisture-4   131 non-null    float64\n",
            " 13  SteamFlow-4      131 non-null    float64\n",
            " 14  Lower-HeatT-3    131 non-null    float64\n",
            " 15  Upper-HeatT-3    131 non-null    float64\n",
            " 16  ChipMass-4       131 non-null    float64\n",
            " 17  WeakLiquorF      131 non-null    float64\n",
            " 18  BlackFlow-2      131 non-null    float64\n",
            " 19  WeakWashF        131 non-null    float64\n",
            " 20  SteamHeatF-3     131 non-null    float64\n",
            " 21  T-Top-Chips-4    131 non-null    float64\n",
            " 22  SulphidityL-4    131 non-null    float64\n",
            "dtypes: float64(22), object(1)\n",
            "memory usage: 24.6+ KB\n"
          ]
        }
      ]
    },
    {
      "cell_type": "code",
      "source": [
        "df.isnull().sum()\n"
      ],
      "metadata": {
        "colab": {
          "base_uri": "https://localhost:8080/"
        },
        "id": "cBNdIOOFzSJy",
        "outputId": "4dced640-2ebd-4d74-e265-500b91daadbb"
      },
      "execution_count": 26,
      "outputs": [
        {
          "output_type": "execute_result",
          "data": {
            "text/plain": [
              "Observation          0\n",
              "Y-Kappa              0\n",
              "ChipRate             4\n",
              "BF-CMratio          14\n",
              "BlowFlow            13\n",
              "ChipLevel4           1\n",
              "T-upperExt-2         1\n",
              "T-lowerExt-2         1\n",
              "UCZAA               24\n",
              "WhiteFlow-4          1\n",
              "AAWhiteSt-4        141\n",
              "AA-Wood-4            1\n",
              "ChipMoisture-4       1\n",
              "SteamFlow-4          1\n",
              "Lower-HeatT-3        1\n",
              "Upper-HeatT-3        1\n",
              "ChipMass-4           1\n",
              "WeakLiquorF          1\n",
              "BlackFlow-2          1\n",
              "WeakWashF            1\n",
              "SteamHeatF-3         1\n",
              "T-Top-Chips-4        1\n",
              "SulphidityL-4      141\n",
              "dtype: int64"
            ]
          },
          "metadata": {},
          "execution_count": 26
        }
      ]
    },
    {
      "cell_type": "code",
      "source": [
        "df.info()"
      ],
      "metadata": {
        "colab": {
          "base_uri": "https://localhost:8080/"
        },
        "id": "kd9PWsM0zhzy",
        "outputId": "c4733443-70f1-4729-b66d-a08522f5c614"
      },
      "execution_count": 28,
      "outputs": [
        {
          "output_type": "stream",
          "name": "stdout",
          "text": [
            "<class 'pandas.core.frame.DataFrame'>\n",
            "RangeIndex: 301 entries, 0 to 300\n",
            "Data columns (total 23 columns):\n",
            " #   Column           Non-Null Count  Dtype  \n",
            "---  ------           --------------  -----  \n",
            " 0   Observation      301 non-null    object \n",
            " 1   Y-Kappa          301 non-null    float64\n",
            " 2   ChipRate         297 non-null    float64\n",
            " 3   BF-CMratio       287 non-null    float64\n",
            " 4   BlowFlow         288 non-null    float64\n",
            " 5   ChipLevel4       300 non-null    float64\n",
            " 6   T-upperExt-2     300 non-null    float64\n",
            " 7   T-lowerExt-2     300 non-null    float64\n",
            " 8   UCZAA            277 non-null    float64\n",
            " 9   WhiteFlow-4      300 non-null    float64\n",
            " 10  AAWhiteSt-4      160 non-null    float64\n",
            " 11  AA-Wood-4        300 non-null    float64\n",
            " 12  ChipMoisture-4   300 non-null    float64\n",
            " 13  SteamFlow-4      300 non-null    float64\n",
            " 14  Lower-HeatT-3    300 non-null    float64\n",
            " 15  Upper-HeatT-3    300 non-null    float64\n",
            " 16  ChipMass-4       300 non-null    float64\n",
            " 17  WeakLiquorF      300 non-null    float64\n",
            " 18  BlackFlow-2      300 non-null    float64\n",
            " 19  WeakWashF        300 non-null    float64\n",
            " 20  SteamHeatF-3     300 non-null    float64\n",
            " 21  T-Top-Chips-4    300 non-null    float64\n",
            " 22  SulphidityL-4    160 non-null    float64\n",
            "dtypes: float64(22), object(1)\n",
            "memory usage: 54.2+ KB\n"
          ]
        }
      ]
    },
    {
      "cell_type": "code",
      "source": [
        "# Calculate the percentage of null values for each column\n",
        "percent_missing = df.isnull().mean() * 100\n",
        "\n",
        "# Create a DataFrame to view the column names alongside their corresponding percentage of null values\n",
        "missing_value_df = pd.DataFrame({'column_name': df.columns,\n",
        "                                 'percent_missing': percent_missing})\n",
        "\n",
        "print(missing_value_df)\n",
        "'''\n",
        "Based on the percentage of missing values in each column, here's a guideline on which columns you might consider keeping or removing. This decision should also take into account the importance of the data for your analysis or modeling efforts, as previously discussed.\n",
        "\n",
        "Columns to Consider Keeping:\n",
        "Keep and Potentially Impute: Columns with a relatively low percentage of missing values (typically less than 10%) can often be kept, with missing values imputed based on the nature of the data. This includes ChipRate, BF-CMratio, BlowFlow, and UCZAA, among others with similar low missing percentages. The specific method of imputation (mean, median, mode, or more complex methods) should be chosen based on the distribution of the data and the nature of the column (e.g., numerical or categorical).\n",
        "Columns to Consider with Caution:\n",
        "Consider Dropping or Imputing with Care: Columns with a very high percentage of missing values, such as AAWhiteSt-4 and SulphidityL-4 (both around 46.84%), present a more difficult decision. If these columns are critical to your analysis or modeling, you might consider keeping them but would need to apply careful imputation strategies that do not introduce significant bias. Alternatively, if the analysis can proceed without these columns, or if the risk of bias is too high, dropping them might be the safer choice.\n",
        "Decision Factors:\n",
        "Importance for Analysis/Modeling: If the columns with high missing values are critical for the analysis or predictive modeling, look into advanced imputation methods or domain-specific strategies to retain them without introducing bias.\n",
        "Availability of Additional Data: Sometimes, other sources of data can compensate for the information you might lose by dropping a column.\n",
        "Potential Bias: Imputing data in columns with a large percentage of missing values can introduce bias. Ensure that any imputation strategy is carefully considered and tested.\n",
        "Impact on Dataset Size: Dropping rows instead of columns to handle missing data can significantly reduce your dataset size, potentially removing valuable information. This is especially critical if your dataset is not very large to begin with.\n",
        "Recommendations:\n",
        "Columns to Keep with Imputation: ChipRate, BF-CMratio, BlowFlow, UCZAA, etc., where missing data is relatively minor and can likely be imputed without introducing significant bias.\n",
        "Columns to Evaluate Further: AAWhiteSt-4, SulphidityL-4. Examine the importance of these columns in your analysis/modeling. If they are critical, consider advanced imputation methods or obtaining more data. If not, consider removing these columns to maintain the integrity of your dataset.\n",
        "Remember, the choice to keep or remove should be aligned with your project's goals, the potential impact on analysis or model performance, and the feasibility of accurately imputing missing data. Always consider performing exploratory data analysis (EDA) to better understand the distribution and relationships in your data before making these decisions.\n",
        "'''"
      ],
      "metadata": {
        "colab": {
          "base_uri": "https://localhost:8080/"
        },
        "id": "BGvvpW050AAU",
        "outputId": "ff6fd1c0-7ced-410a-e401-bd99f887dee2"
      },
      "execution_count": 29,
      "outputs": [
        {
          "output_type": "stream",
          "name": "stdout",
          "text": [
            "                     column_name  percent_missing\n",
            "Observation          Observation         0.000000\n",
            "Y-Kappa                  Y-Kappa         0.000000\n",
            "ChipRate                ChipRate         1.328904\n",
            "BF-CMratio            BF-CMratio         4.651163\n",
            "BlowFlow                BlowFlow         4.318937\n",
            "ChipLevel4           ChipLevel4          0.332226\n",
            "T-upperExt-2       T-upperExt-2          0.332226\n",
            "T-lowerExt-2      T-lowerExt-2           0.332226\n",
            "UCZAA                      UCZAA         7.973422\n",
            "WhiteFlow-4         WhiteFlow-4          0.332226\n",
            "AAWhiteSt-4         AAWhiteSt-4         46.843854\n",
            "AA-Wood-4            AA-Wood-4           0.332226\n",
            "ChipMoisture-4   ChipMoisture-4          0.332226\n",
            "SteamFlow-4         SteamFlow-4          0.332226\n",
            "Lower-HeatT-3      Lower-HeatT-3         0.332226\n",
            "Upper-HeatT-3     Upper-HeatT-3          0.332226\n",
            "ChipMass-4           ChipMass-4          0.332226\n",
            "WeakLiquorF         WeakLiquorF          0.332226\n",
            "BlackFlow-2         BlackFlow-2          0.332226\n",
            "WeakWashF             WeakWashF          0.332226\n",
            "SteamHeatF-3       SteamHeatF-3          0.332226\n",
            "T-Top-Chips-4     T-Top-Chips-4          0.332226\n",
            "SulphidityL-4     SulphidityL-4         46.843854\n"
          ]
        }
      ]
    },
    {
      "cell_type": "code",
      "source": [
        "print(df.columns)"
      ],
      "metadata": {
        "colab": {
          "base_uri": "https://localhost:8080/"
        },
        "id": "LBC0kf_l0g-f",
        "outputId": "83ac4405-968d-4ef2-e38f-d17cccfd2436"
      },
      "execution_count": 32,
      "outputs": [
        {
          "output_type": "stream",
          "name": "stdout",
          "text": [
            "Index(['Observation', 'Y-Kappa', 'ChipRate', 'BF-CMratio', 'BlowFlow',\n",
            "       'ChipLevel4 ', 'T-upperExt-2 ', 'T-lowerExt-2  ', 'UCZAA',\n",
            "       'WhiteFlow-4 ', 'AAWhiteSt-4 ', 'AA-Wood-4  ', 'ChipMoisture-4 ',\n",
            "       'SteamFlow-4 ', 'Lower-HeatT-3', 'Upper-HeatT-3 ', 'ChipMass-4 ',\n",
            "       'WeakLiquorF ', 'BlackFlow-2 ', 'WeakWashF ', 'SteamHeatF-3 ',\n",
            "       'T-Top-Chips-4 ', 'SulphidityL-4 '],\n",
            "      dtype='object')\n"
          ]
        }
      ]
    },
    {
      "cell_type": "code",
      "source": [
        "# dropping columns with 46.8438% to see what it does\n",
        "df_udpated3 = df.drop(columns=['SulphidityL-4 ', 'AAWhiteSt-4 '])\n",
        "df_udpated3.info()\n",
        "\n"
      ],
      "metadata": {
        "colab": {
          "base_uri": "https://localhost:8080/"
        },
        "id": "qtroDFpC1LVh",
        "outputId": "fcfa60ca-2688-44c0-df67-abb99f4e69e8"
      },
      "execution_count": 33,
      "outputs": [
        {
          "output_type": "stream",
          "name": "stdout",
          "text": [
            "<class 'pandas.core.frame.DataFrame'>\n",
            "RangeIndex: 301 entries, 0 to 300\n",
            "Data columns (total 21 columns):\n",
            " #   Column           Non-Null Count  Dtype  \n",
            "---  ------           --------------  -----  \n",
            " 0   Observation      301 non-null    object \n",
            " 1   Y-Kappa          301 non-null    float64\n",
            " 2   ChipRate         297 non-null    float64\n",
            " 3   BF-CMratio       287 non-null    float64\n",
            " 4   BlowFlow         288 non-null    float64\n",
            " 5   ChipLevel4       300 non-null    float64\n",
            " 6   T-upperExt-2     300 non-null    float64\n",
            " 7   T-lowerExt-2     300 non-null    float64\n",
            " 8   UCZAA            277 non-null    float64\n",
            " 9   WhiteFlow-4      300 non-null    float64\n",
            " 10  AA-Wood-4        300 non-null    float64\n",
            " 11  ChipMoisture-4   300 non-null    float64\n",
            " 12  SteamFlow-4      300 non-null    float64\n",
            " 13  Lower-HeatT-3    300 non-null    float64\n",
            " 14  Upper-HeatT-3    300 non-null    float64\n",
            " 15  ChipMass-4       300 non-null    float64\n",
            " 16  WeakLiquorF      300 non-null    float64\n",
            " 17  BlackFlow-2      300 non-null    float64\n",
            " 18  WeakWashF        300 non-null    float64\n",
            " 19  SteamHeatF-3     300 non-null    float64\n",
            " 20  T-Top-Chips-4    300 non-null    float64\n",
            "dtypes: float64(20), object(1)\n",
            "memory usage: 49.5+ KB\n"
          ]
        }
      ]
    },
    {
      "cell_type": "code",
      "source": [
        "#the code below deletes the rows with missing data\n",
        "df_udpated3 = df_udpated3.dropna(axis = 0)\n",
        "df_udpated3.info()\n",
        "# this would potentially be the better approach to clean the data up for optimal cleaning if we use the first method.\n",
        "#there are better methods explored below. However, when it comes to Ml or predictive analysis nobody can tell you which technique is the best you try thema all out for best results and constant analysis. All about trial and error."
      ],
      "metadata": {
        "colab": {
          "base_uri": "https://localhost:8080/"
        },
        "id": "BeqWuUPK1kWc",
        "outputId": "54f3ae5c-8654-42f6-f13d-1d5246033b0d"
      },
      "execution_count": 35,
      "outputs": [
        {
          "output_type": "stream",
          "name": "stdout",
          "text": [
            "<class 'pandas.core.frame.DataFrame'>\n",
            "Int64Index: 263 entries, 0 to 297\n",
            "Data columns (total 21 columns):\n",
            " #   Column           Non-Null Count  Dtype  \n",
            "---  ------           --------------  -----  \n",
            " 0   Observation      263 non-null    object \n",
            " 1   Y-Kappa          263 non-null    float64\n",
            " 2   ChipRate         263 non-null    float64\n",
            " 3   BF-CMratio       263 non-null    float64\n",
            " 4   BlowFlow         263 non-null    float64\n",
            " 5   ChipLevel4       263 non-null    float64\n",
            " 6   T-upperExt-2     263 non-null    float64\n",
            " 7   T-lowerExt-2     263 non-null    float64\n",
            " 8   UCZAA            263 non-null    float64\n",
            " 9   WhiteFlow-4      263 non-null    float64\n",
            " 10  AA-Wood-4        263 non-null    float64\n",
            " 11  ChipMoisture-4   263 non-null    float64\n",
            " 12  SteamFlow-4      263 non-null    float64\n",
            " 13  Lower-HeatT-3    263 non-null    float64\n",
            " 14  Upper-HeatT-3    263 non-null    float64\n",
            " 15  ChipMass-4       263 non-null    float64\n",
            " 16  WeakLiquorF      263 non-null    float64\n",
            " 17  BlackFlow-2      263 non-null    float64\n",
            " 18  WeakWashF        263 non-null    float64\n",
            " 19  SteamHeatF-3     263 non-null    float64\n",
            " 20  T-Top-Chips-4    263 non-null    float64\n",
            "dtypes: float64(20), object(1)\n",
            "memory usage: 45.2+ KB\n"
          ]
        }
      ]
    },
    {
      "cell_type": "code",
      "source": [
        "'''\n",
        "Technique 3. Filling the missing values: Imputation\n",
        "1. if its a numerical value: fill with mean/median\n",
        "2. if its a categorical value: fill with mode\n",
        "3. fill numerical value with 0 or -999, or some other number that will not occur in the data. This can be done so that the machine can recognize the data is not real or is different.\n",
        "4. FIlling the categorical with a new type of the missing values.\n",
        "'''\n",
        "\n",
        "# I will try this with one of the columns BlowFlow\n",
        "df.BlowFlow.mean()"
      ],
      "metadata": {
        "colab": {
          "base_uri": "https://localhost:8080/"
        },
        "id": "SXjXGI2M16ut",
        "outputId": "404ce7ee-2c5c-491d-a333-6a1b3d589953"
      },
      "execution_count": 37,
      "outputs": [
        {
          "output_type": "execute_result",
          "data": {
            "text/plain": [
              "1235.5372777777777"
            ]
          },
          "metadata": {},
          "execution_count": 37
        }
      ]
    },
    {
      "cell_type": "code",
      "source": [
        "df['BlowFlow'].median()"
      ],
      "metadata": {
        "colab": {
          "base_uri": "https://localhost:8080/"
        },
        "id": "U4XWPNEI_KtN",
        "outputId": "8b948793-57b6-4a28-ada2-e258b350594f"
      },
      "execution_count": 39,
      "outputs": [
        {
          "output_type": "execute_result",
          "data": {
            "text/plain": [
              "1267.13"
            ]
          },
          "metadata": {},
          "execution_count": 39
        }
      ]
    },
    {
      "cell_type": "code",
      "source": [
        "#fillna: fills the null records.\n",
        "#dropna: drops the null records.\n",
        "df_updated4 = df\n",
        "df_updated4['BlowFlow'] = df_updated4['BlowFlow'].fillna(df['BlowFlow'].mean())\n",
        "df_updated4.info()\n",
        "#we can see now BlowFlow had 301 values as well as the null values are replaced with its mean\n",
        "'''\n",
        "There is no thumb rule for if mean or median is better to use to fill values. However, when there is a ton of outliers\n",
        "it is better to use median. When you have less outliers it is better to use mean.\n",
        "'''"
      ],
      "metadata": {
        "colab": {
          "base_uri": "https://localhost:8080/"
        },
        "id": "97Ws9VfO_TGD",
        "outputId": "74021e9d-f5ac-4759-a938-d0e846cceaf5"
      },
      "execution_count": 41,
      "outputs": [
        {
          "output_type": "stream",
          "name": "stdout",
          "text": [
            "<class 'pandas.core.frame.DataFrame'>\n",
            "RangeIndex: 301 entries, 0 to 300\n",
            "Data columns (total 23 columns):\n",
            " #   Column           Non-Null Count  Dtype  \n",
            "---  ------           --------------  -----  \n",
            " 0   Observation      301 non-null    object \n",
            " 1   Y-Kappa          301 non-null    float64\n",
            " 2   ChipRate         297 non-null    float64\n",
            " 3   BF-CMratio       287 non-null    float64\n",
            " 4   BlowFlow         301 non-null    float64\n",
            " 5   ChipLevel4       300 non-null    float64\n",
            " 6   T-upperExt-2     300 non-null    float64\n",
            " 7   T-lowerExt-2     300 non-null    float64\n",
            " 8   UCZAA            277 non-null    float64\n",
            " 9   WhiteFlow-4      300 non-null    float64\n",
            " 10  AAWhiteSt-4      160 non-null    float64\n",
            " 11  AA-Wood-4        300 non-null    float64\n",
            " 12  ChipMoisture-4   300 non-null    float64\n",
            " 13  SteamFlow-4      300 non-null    float64\n",
            " 14  Lower-HeatT-3    300 non-null    float64\n",
            " 15  Upper-HeatT-3    300 non-null    float64\n",
            " 16  ChipMass-4       300 non-null    float64\n",
            " 17  WeakLiquorF      300 non-null    float64\n",
            " 18  BlackFlow-2      300 non-null    float64\n",
            " 19  WeakWashF        300 non-null    float64\n",
            " 20  SteamHeatF-3     300 non-null    float64\n",
            " 21  T-Top-Chips-4    300 non-null    float64\n",
            " 22  SulphidityL-4    160 non-null    float64\n",
            "dtypes: float64(22), object(1)\n",
            "memory usage: 54.2+ KB\n"
          ]
        }
      ]
    },
    {
      "cell_type": "code",
      "source": [
        "'''\n",
        "Technique 4. Foward and Backward filling: Imputation\n",
        "\n",
        "'''\n",
        "# foward fill: ffill()\n",
        "# backward fill: bfill()\n",
        "df5 = df\n",
        "df5.UCZAA = df5.UCZAA.bfill()\n",
        "df5.info()"
      ],
      "metadata": {
        "colab": {
          "base_uri": "https://localhost:8080/"
        },
        "id": "YW0jSnWJAv1W",
        "outputId": "a856ebfc-934c-40bf-c07b-54018825b9c9"
      },
      "execution_count": 42,
      "outputs": [
        {
          "output_type": "stream",
          "name": "stdout",
          "text": [
            "<class 'pandas.core.frame.DataFrame'>\n",
            "RangeIndex: 301 entries, 0 to 300\n",
            "Data columns (total 23 columns):\n",
            " #   Column           Non-Null Count  Dtype  \n",
            "---  ------           --------------  -----  \n",
            " 0   Observation      301 non-null    object \n",
            " 1   Y-Kappa          301 non-null    float64\n",
            " 2   ChipRate         297 non-null    float64\n",
            " 3   BF-CMratio       287 non-null    float64\n",
            " 4   BlowFlow         301 non-null    float64\n",
            " 5   ChipLevel4       300 non-null    float64\n",
            " 6   T-upperExt-2     300 non-null    float64\n",
            " 7   T-lowerExt-2     300 non-null    float64\n",
            " 8   UCZAA            298 non-null    float64\n",
            " 9   WhiteFlow-4      300 non-null    float64\n",
            " 10  AAWhiteSt-4      160 non-null    float64\n",
            " 11  AA-Wood-4        300 non-null    float64\n",
            " 12  ChipMoisture-4   300 non-null    float64\n",
            " 13  SteamFlow-4      300 non-null    float64\n",
            " 14  Lower-HeatT-3    300 non-null    float64\n",
            " 15  Upper-HeatT-3    300 non-null    float64\n",
            " 16  ChipMass-4       300 non-null    float64\n",
            " 17  WeakLiquorF      300 non-null    float64\n",
            " 18  BlackFlow-2      300 non-null    float64\n",
            " 19  WeakWashF        300 non-null    float64\n",
            " 20  SteamHeatF-3     300 non-null    float64\n",
            " 21  T-Top-Chips-4    300 non-null    float64\n",
            " 22  SulphidityL-4    160 non-null    float64\n",
            "dtypes: float64(22), object(1)\n",
            "memory usage: 54.2+ KB\n"
          ]
        }
      ]
    }
  ]
}